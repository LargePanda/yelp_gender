{
 "cells": [
  {
   "cell_type": "markdown",
   "metadata": {},
   "source": [
    "<h1 align = \"center\">Are Yelp reviews gendered ?</h1>"
   ]
  },
  {
   "cell_type": "code",
   "execution_count": 13,
   "metadata": {
    "collapsed": true
   },
   "outputs": [],
   "source": [
    "%matplotlib inline "
   ]
  },
  {
   "cell_type": "code",
   "execution_count": 14,
   "metadata": {
    "collapsed": true
   },
   "outputs": [],
   "source": [
    "import json\n",
    "import pyprind\n",
    "import collections\n",
    "import matplotlib.pyplot as plt"
   ]
  },
  {
   "cell_type": "code",
   "execution_count": 2,
   "metadata": {
    "collapsed": true
   },
   "outputs": [],
   "source": [
    "# load gender detector\n",
    "\n",
    "from gender_detector import GenderDetector \n",
    "detector = GenderDetector('us')"
   ]
  },
  {
   "cell_type": "code",
   "execution_count": 3,
   "metadata": {
    "collapsed": true
   },
   "outputs": [],
   "source": [
    "# load all users\n",
    "\n",
    "users = {}\n",
    "\n",
    "with open(\"../yelp_dataset/yelp_dataset_challenge_academic_dataset/yelp_academic_dataset_user.json\", \"rb\") as f:\n",
    "    for line in f:\n",
    "        user = json.loads(line.strip())\n",
    "        users[user['user_id']] = user"
   ]
  },
  {
   "cell_type": "code",
   "execution_count": 4,
   "metadata": {
    "collapsed": false
   },
   "outputs": [
    {
     "name": "stderr",
     "output_type": "stream",
     "text": [
      "0%                                                                                                100%\n",
      "[####################################################################################################] | ETA: 00:00:00\n",
      "Total time elapsed: 00:31:31\n"
     ]
    }
   ],
   "source": [
    "# detect all names' gender\n",
    "\n",
    "name_set = set()\n",
    "\n",
    "for user in users.values():\n",
    "    name_set.add(user['name'])\n",
    "\n",
    "bar = pyprind.ProgBar(len(name_set), width = 100)\n",
    "\n",
    "# set mapping\n",
    "gender = {}\n",
    "\n",
    "for name in name_set:\n",
    "    bar.update()\n",
    "    try:\n",
    "        gender[name] = detector.guess(name)\n",
    "    except:\n",
    "        gender[name] = 'unknown'"
   ]
  },
  {
   "cell_type": "code",
   "execution_count": 5,
   "metadata": {
    "collapsed": true
   },
   "outputs": [],
   "source": [
    "# save to file\n",
    "\n",
    "with open(\"gender.json\", \"wb\") as f:\n",
    "    json.dump(gender, f)"
   ]
  },
  {
   "cell_type": "code",
   "execution_count": 7,
   "metadata": {
    "collapsed": false
   },
   "outputs": [],
   "source": [
    "# assign gender to users\n",
    "\n",
    "for user in users.values():\n",
    "    try:\n",
    "        user['gender'] = gender[user['name']]\n",
    "    except:\n",
    "        user['gender'] = 'unknown'"
   ]
  },
  {
   "cell_type": "code",
   "execution_count": 19,
   "metadata": {
    "collapsed": false
   },
   "outputs": [
    {
     "name": "stdout",
     "output_type": "stream",
     "text": [
      "total number of users is 552339\n"
     ]
    }
   ],
   "source": [
    "gender_list = [user['gender'] for user in users.values()]\n",
    "\n",
    "print \"total number of users is\", len(gender_list)"
   ]
  },
  {
   "cell_type": "code",
   "execution_count": 20,
   "metadata": {
    "collapsed": false
   },
   "outputs": [
    {
     "data": {
      "image/png": "[encoded data removed]",
      "text/plain": [
       "<matplotlib.figure.Figure at 0x18c65ee10>"
      ]
     },
     "metadata": {},
     "output_type": "display_data"
    }
   ],
   "source": [
    "counter=collections.Counter(gender_list)\n",
    "\n",
    "labels = counter.keys()\n",
    "sizes = counter.values()\n",
    "colors = ['gold', 'yellowgreen', 'lightcoral']\n",
    "explode = (0.1, 0, 0)  # explode 1st slice\n",
    " \n",
    "# Plot\n",
    "plt.pie(sizes, explode=explode, labels=labels, colors=colors,\n",
    "        autopct='%1.1f%%', shadow=True, startangle=140)\n",
    " \n",
    "plt.axis('equal')\n",
    "plt.show()"
   ]
  },
  {
   "cell_type": "code",
   "execution_count": 21,
   "metadata": {
    "collapsed": true
   },
   "outputs": [],
   "source": [
    "reviews = []\n",
    "with open(\"../yelp_dataset/yelp_dataset_challenge_academic_dataset/yelp_academic_dataset_review.json\", \"rb\") as f:\n",
    "    for line in f:\n",
    "        reviews.append(json.loads(line.strip()))"
   ]
  },
  {
   "cell_type": "code",
   "execution_count": 25,
   "metadata": {
    "collapsed": false
   },
   "outputs": [],
   "source": [
    "m_reviews = []\n",
    "f_reviews = []\n",
    "for review in reviews:\n",
    "    user = users[review['user_id']]\n",
    "    if user['gender'] == 'male':\n",
    "        m_reviews.append(review)\n",
    "    elif user['gender'] == 'female':\n",
    "        f_reviews.append(review)"
   ]
  },
  {
   "cell_type": "code",
   "execution_count": 26,
   "metadata": {
    "collapsed": false
   },
   "outputs": [
    {
     "data": {
      "text/plain": [
       "{u'business_id': u'5UmKMjUEUNdYWqANhGckJw',\n",
       " u'date': u'2014-02-13',\n",
       " u'review_id': u'KPvLNJ21_4wbYNctrOwWdQ',\n",
       " u'stars': 5,\n",
       " u'text': u\"Excellent food. Superb customer service. I miss the mario machines they used to have, but it's still a great place steeped in tradition.\",\n",
       " u'type': u'review',\n",
       " u'user_id': u'Iu6AxdBYGR4A0wspR9BYHA',\n",
       " u'votes': {u'cool': 0, u'funny': 0, u'useful': 0}}"
      ]
     },
     "execution_count": 26,
     "metadata": {},
     "output_type": "execute_result"
    }
   ],
   "source": [
    "reviews[1]"
   ]
  },
  {
   "cell_type": "markdown",
   "metadata": {},
   "source": [
    "<h1 align = \"center\">Text Analysis</h1>"
   ]
  },
  {
   "cell_type": "code",
   "execution_count": 23,
   "metadata": {
    "collapsed": false
   },
   "outputs": [],
   "source": [
    "### 1. Number of words\n",
    "\n",
    "def num_words(text):\n",
    "    return len(text.split(\" \"))\n",
    "\n",
    "def num_words_dist(review_set):\n",
    "    for review in review_set:\n",
    "        n = num_words(review['text'])"
   ]
  },
  {
   "cell_type": "code",
   "execution_count": null,
   "metadata": {
    "collapsed": true
   },
   "outputs": [],
   "source": []
  },
  {
   "cell_type": "code",
   "execution_count": null,
   "metadata": {
    "collapsed": false
   },
   "outputs": [],
   "source": [
    "male"
   ]
  },
  {
   "cell_type": "code",
   "execution_count": null,
   "metadata": {
    "collapsed": false
   },
   "outputs": [],
   "source": [
    "len(reviews)"
   ]
  },
  {
   "cell_type": "code",
   "execution_count": null,
   "metadata": {
    "collapsed": false
   },
   "outputs": [],
   "source": [
    "female = []\n",
    "male = []\n",
    "\n",
    "for review in reviews:\n",
    "    user_id = review['user_id']\n",
    "    user = user_info[user_id]\n",
    "    if user['gender'] == 'male':\n",
    "        male.append(review)\n",
    "    elif user['gender'] == 'female':\n",
    "        female.append(review)"
   ]
  },
  {
   "cell_type": "code",
   "execution_count": null,
   "metadata": {
    "collapsed": false
   },
   "outputs": [],
   "source": [
    "len(female)"
   ]
  },
  {
   "cell_type": "code",
   "execution_count": null,
   "metadata": {
    "collapsed": false
   },
   "outputs": [],
   "source": [
    "len(male)"
   ]
  },
  {
   "cell_type": "code",
   "execution_count": null,
   "metadata": {
    "collapsed": true
   },
   "outputs": [],
   "source": []
  }
 ],
 "metadata": {
  "kernelspec": {
   "display_name": "Python 2",
   "language": "python",
   "name": "python2"
  },
  "language_info": {
   "codemirror_mode": {
    "name": "ipython",
    "version": 2
   },
   "file_extension": ".py",
   "mimetype": "text/x-python",
   "name": "python",
   "nbconvert_exporter": "python",
   "pygments_lexer": "ipython2",
   "version": "2.7.11"
  }
 },
 "nbformat": 4,
 "nbformat_minor": 0
}

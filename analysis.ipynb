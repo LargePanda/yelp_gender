{
 "cells": [
  {
   "cell_type": "markdown",
   "metadata": {},
   "source": [
    "<h1 align = \"center\">Are Yelp reviews gendered ?</h1>"
   ]
  },
  {
   "cell_type": "code",
   "execution_count": null,
   "metadata": {
    "collapsed": true
   },
   "outputs": [],
   "source": [
    "import sys\n",
    "reload(sys)\n",
    "sys.setdefaultencoding('utf-8')"
   ]
  },
  {
   "cell_type": "code",
   "execution_count": null,
   "metadata": {
    "collapsed": true
   },
   "outputs": [],
   "source": [
    "%matplotlib inline "
   ]
  },
  {
   "cell_type": "code",
   "execution_count": null,
   "metadata": {
    "collapsed": true
   },
   "outputs": [],
   "source": [
    "import json\n",
    "import pyprind\n",
    "import collections\n",
    "import matplotlib.pyplot as plt\n",
    "from textblob import TextBlob"
   ]
  },
  {
   "cell_type": "code",
   "execution_count": null,
   "metadata": {
    "collapsed": true
   },
   "outputs": [],
   "source": [
    "# load gender detector\n",
    "\n",
    "from gender_detector import GenderDetector \n",
    "detector = GenderDetector('us')"
   ]
  },
  {
   "cell_type": "code",
   "execution_count": null,
   "metadata": {
    "collapsed": true
   },
   "outputs": [],
   "source": [
    "# load all users\n",
    "\n",
    "users = {}\n",
    "\n",
    "with open(\"../yelp_dataset/yelp_dataset_challenge_academic_dataset/yelp_academic_dataset_user.json\", \"rb\") as f:\n",
    "    for line in f:\n",
    "        user = json.loads(line.strip())\n",
    "        users[user['user_id']] = user"
   ]
  },
  {
   "cell_type": "code",
   "execution_count": null,
   "metadata": {
    "collapsed": false
   },
   "outputs": [],
   "source": [
    "# detect all names' gender\n",
    "\n",
    "name_set = set()\n",
    "\n",
    "for user in users.values():\n",
    "    name_set.add(user['name'])\n",
    "\n",
    "bar = pyprind.ProgBar(len(name_set), width = 80)\n",
    "\n",
    "# set mapping\n",
    "gender = {}\n",
    "\n",
    "for name in name_set:\n",
    "    bar.update()\n",
    "    try:\n",
    "        gender[name] = detector.guess(name)\n",
    "    except:\n",
    "        gender[name] = 'unknown'"
   ]
  },
  {
   "cell_type": "code",
   "execution_count": null,
   "metadata": {
    "collapsed": true
   },
   "outputs": [],
   "source": [
    "# save to file\n",
    "\n",
    "with open(\"gender.json\", \"wb\") as f:\n",
    "    json.dump(gender, f)"
   ]
  },
  {
   "cell_type": "code",
   "execution_count": null,
   "metadata": {
    "collapsed": false
   },
   "outputs": [],
   "source": [
    "with open(\"gender.json\", \"rb\") as f:\n",
    "    gender = json.load(f)"
   ]
  },
  {
   "cell_type": "code",
   "execution_count": null,
   "metadata": {
    "collapsed": false
   },
   "outputs": [],
   "source": [
    "# assign gender to users\n",
    "\n",
    "for user in users.values():\n",
    "    try:\n",
    "        user['gender'] = gender[user['name']]\n",
    "    except:\n",
    "        user['gender'] = 'unknown'"
   ]
  },
  {
   "cell_type": "code",
   "execution_count": null,
   "metadata": {
    "collapsed": false
   },
   "outputs": [],
   "source": [
    "gender_list = [user['gender'] for user in users.values()]\n",
    "\n",
    "print \"total number of users is\", len(gender_list)"
   ]
  },
  {
   "cell_type": "code",
   "execution_count": null,
   "metadata": {
    "collapsed": false
   },
   "outputs": [],
   "source": [
    "counter=collections.Counter(gender_list)\n",
    "\n",
    "labels = counter.keys()\n",
    "sizes = counter.values()\n",
    "colors = ['gold', 'yellowgreen', 'lightcoral']\n",
    "explode = (0.1, 0, 0)  # explode 1st slice\n",
    " \n",
    "# Plot\n",
    "plt.pie(sizes, explode=explode, labels=labels, colors=colors,\n",
    "        autopct='%1.1f%%', shadow=True, startangle=140)\n",
    " \n",
    "plt.axis('equal')\n",
    "plt.show()"
   ]
  },
  {
   "cell_type": "code",
   "execution_count": null,
   "metadata": {
    "collapsed": true
   },
   "outputs": [],
   "source": [
    "reviews = []\n",
    "with open(\"../yelp_dataset/yelp_dataset_challenge_academic_dataset/yelp_academic_dataset_review.json\", \"rb\") as f:\n",
    "    for line in f:\n",
    "        reviews.append(json.loads(line.strip()))"
   ]
  },
  {
   "cell_type": "code",
   "execution_count": null,
   "metadata": {
    "collapsed": false
   },
   "outputs": [],
   "source": [
    "bar = pyprind.ProgBar(len(reviews), width = 80)\n",
    "\n",
    "for review in reviews:\n",
    "    bar.update()\n",
    "    review['text_blob'] = TextBlob(review['text'])"
   ]
  },
  {
   "cell_type": "code",
   "execution_count": null,
   "metadata": {
    "collapsed": false
   },
   "outputs": [],
   "source": [
    "m_reviews = []\n",
    "f_reviews = []\n",
    "for review in reviews:\n",
    "    user = users[review['user_id']]\n",
    "    if user['gender'] == 'male':\n",
    "        m_reviews.append(review)\n",
    "    elif user['gender'] == 'female':\n",
    "        f_reviews.append(review)"
   ]
  },
  {
   "cell_type": "code",
   "execution_count": null,
   "metadata": {
    "collapsed": false
   },
   "outputs": [],
   "source": [
    "reviews[1]"
   ]
  },
  {
   "cell_type": "code",
   "execution_count": null,
   "metadata": {
    "collapsed": false
   },
   "outputs": [],
   "source": [
    "text = '''\n",
    "The titular threat of The Blob has always struck me as the ultimate movie\n",
    "monster: an insatiably hungry, amoeba-like mass able to penetrate\n",
    "virtually any safeguard, capable of--as a doomed doctor chillingly\n",
    "describes it--\"assimilating flesh on contact.\n",
    "Snide comparisons to gelatin be damned, it's a concept with the most\n",
    "devastating of potential consequences, not unlike the grey goo scenario\n",
    "proposed by technological theorists fearful of\n",
    "artificial intelligence run rampant.\n",
    "'''\n",
    "\n",
    "blob = TextBlob(text)\n",
    "blob.words"
   ]
  },
  {
   "cell_type": "markdown",
   "metadata": {},
   "source": [
    "<h1 align = \"center\">Text Analysis</h1>"
   ]
  },
  {
   "cell_type": "markdown",
   "metadata": {},
   "source": [
    "### 1. Number of words"
   ]
  },
  {
   "cell_type": "code",
   "execution_count": null,
   "metadata": {
    "collapsed": false
   },
   "outputs": [],
   "source": [
    "def num_words_dist(review_set):\n",
    "    \n",
    "    bar = pyprind.ProgBar(len(review_set), width = 80)\n",
    "    \n",
    "    ret = []\n",
    "\n",
    "    for review in review_set:\n",
    "        bar.update()\n",
    "        n = len(review['text'].split(\" \"))\n",
    "        ret.append(n)\n",
    "    return ret\n",
    "\n",
    "m_num_word_dist = num_words_dist(m_reviews)\n",
    "f_num_word_dist = num_words_dist(f_reviews)"
   ]
  },
  {
   "cell_type": "code",
   "execution_count": null,
   "metadata": {
    "collapsed": false
   },
   "outputs": [],
   "source": [
    "plt.hist(m_num_word_dist, bins=40, histtype='stepfilled', normed=True, color='b', label='Male')\n",
    "plt.hist(f_num_word_dist, bins=40, histtype='stepfilled', normed=True, color='r', alpha=0.5, label='Female')\n",
    "plt.title(\"Usage of words\")\n",
    "plt.xlabel(\"Number of words\")\n",
    "plt.ylabel(\"Frequency\")\n",
    "plt.legend()\n",
    "plt.show()"
   ]
  },
  {
   "cell_type": "code",
   "execution_count": null,
   "metadata": {
    "collapsed": false
   },
   "outputs": [],
   "source": [
    "plt.hist([n for n in m_num_word_dist if n <600], bins=40, histtype='stepfilled', normed=True, color='b', label='Male')\n",
    "plt.hist([n for n in f_num_word_dist if n <600], bins=40, histtype='stepfilled', normed=True, color='r', alpha=0.5, label='Female')\n",
    "plt.title(\"Usage of words\")\n",
    "plt.xlabel(\"Number of words\")\n",
    "plt.ylabel(\"Probability\")\n",
    "plt.legend()\n",
    "plt.show()"
   ]
  },
  {
   "cell_type": "code",
   "execution_count": null,
   "metadata": {
    "collapsed": false
   },
   "outputs": [],
   "source": [
    "m_avg = sum(m_num_word_dist) / float(len(m_num_word_dist))\n",
    "f_avg = sum(f_num_word_dist) / float(len(f_num_word_dist))\n",
    "\n",
    "print \"Male_AVG\", m_avg\n",
    "print \"Female_AVG\", f_avg"
   ]
  },
  {
   "cell_type": "markdown",
   "metadata": {},
   "source": [
    "### 2. Number of sentences"
   ]
  },
  {
   "cell_type": "code",
   "execution_count": null,
   "metadata": {
    "collapsed": false
   },
   "outputs": [],
   "source": [
    "def num_sentences_dist(review_set):\n",
    "    bar = pyprind.ProgBar(len(review_set), width = 80)\n",
    "    \n",
    "    ret = []\n",
    "    for review in review_set:\n",
    "        bar.update()\n",
    "        segments = review['text'].split(\". \")\n",
    "        n = len(segments)\n",
    "        ret.append(n)\n",
    "    return ret\n",
    "\n",
    "m_num_sen_dist = num_sentences_dist(m_reviews)\n",
    "f_num_sen_dist = num_sentences_dist(f_reviews)"
   ]
  },
  {
   "cell_type": "code",
   "execution_count": null,
   "metadata": {
    "collapsed": false
   },
   "outputs": [],
   "source": [
    "plt.hist([n for n in m_num_sen_dist if n <40], bins=40, histtype='stepfilled', normed=True, color='b', label='Male')\n",
    "plt.hist([n for n in f_num_sen_dist if n <40], bins=40, histtype='stepfilled', normed=True, color='r', alpha=0.5, label='Female')\n",
    "plt.title(\"Usage of sentences\")\n",
    "plt.xlabel(\"Number of sentence\")\n",
    "plt.ylabel(\"Probability\")\n",
    "plt.legend()\n",
    "plt.show()"
   ]
  },
  {
   "cell_type": "markdown",
   "metadata": {},
   "source": [
    "### 4. Number of exclamation"
   ]
  },
  {
   "cell_type": "code",
   "execution_count": null,
   "metadata": {
    "collapsed": false
   },
   "outputs": [],
   "source": [
    "def num_ex_dist(review_set):\n",
    "    bar = pyprind.ProgBar(len(review_set), width = 80)\n",
    "    \n",
    "    ret = []\n",
    "    for review in review_set:\n",
    "        bar.update()\n",
    "        n = review['text'].count(\"!\")\n",
    "        ret.append(n)\n",
    "    return ret\n",
    "\n",
    "m_num_ex_dist = num_ex_dist(m_reviews)\n",
    "f_num_ex_dist = num_ex_dist(f_reviews)"
   ]
  },
  {
   "cell_type": "code",
   "execution_count": null,
   "metadata": {
    "collapsed": false
   },
   "outputs": [],
   "source": [
    "plt.hist([n for n in m_num_ex_dist if n <10], bins=40, histtype='stepfilled', normed=True, color='b', label='Male')\n",
    "plt.hist([n for n in f_num_ex_dist if n <10], bins=40, histtype='stepfilled', normed=True, color='r', alpha=0.5, label='Female')\n",
    "plt.title(\"Usage of sentences\")\n",
    "plt.xlabel(\"Number of sentence\")\n",
    "plt.ylabel(\"Probability\")\n",
    "plt.legend()\n",
    "plt.show()"
   ]
  },
  {
   "cell_type": "code",
   "execution_count": null,
   "metadata": {
    "collapsed": true
   },
   "outputs": [],
   "source": []
  },
  {
   "cell_type": "markdown",
   "metadata": {},
   "source": [
    "<h1 align=\"center\">Sentiment Analysis</h1>"
   ]
  },
  {
   "cell_type": "code",
   "execution_count": null,
   "metadata": {
    "collapsed": false
   },
   "outputs": [],
   "source": [
    "def rating_dist(review_set):\n",
    "    bar = pyprind.ProgBar(len(review_set), width = 80)\n",
    "    \n",
    "    ret = []\n",
    "    for review in review_set:\n",
    "        bar.update()\n",
    "        n = review['stars']\n",
    "        ret.append(n)\n",
    "        \n",
    "    return ret\n",
    "\n",
    "m_num_rating_dist = rating_dist(m_reviews)\n",
    "f_num_rating_dist = rating_dist(f_reviews)"
   ]
  },
  {
   "cell_type": "code",
   "execution_count": null,
   "metadata": {
    "collapsed": false
   },
   "outputs": [],
   "source": [
    "plt.hist([m_num_rating_dist], bins=10, histtype='stepfilled', normed=True, color='b', label='Male')\n",
    "plt.hist([f_num_rating_dist], bins=10, histtype='stepfilled', normed=True, color='r', alpha=0.5, label='Female')\n",
    "plt.title(\"Usage of sentences\")\n",
    "plt.xlabel(\"Number of sentence\")\n",
    "plt.ylabel(\"Probability\")\n",
    "plt.legend(loc=2)\n",
    "plt.show()"
   ]
  },
  {
   "cell_type": "code",
   "execution_count": null,
   "metadata": {
    "collapsed": false
   },
   "outputs": [],
   "source": [
    "m_avg = sum(m_num_rating_dist) / float(len(m_num_rating_dist))\n",
    "f_avg = sum(f_num_rating_dist) / float(len(f_num_rating_dist))\n",
    "\n",
    "print \"Male_AVG\", m_avg\n",
    "print \"Female_AVG\", f_avg"
   ]
  },
  {
   "cell_type": "markdown",
   "metadata": {},
   "source": [
    "<h1 align=\"center\">Topic Analysis</h1>"
   ]
  },
  {
   "cell_type": "code",
   "execution_count": null,
   "metadata": {
    "collapsed": true
   },
   "outputs": [],
   "source": [
    "import sys\n",
    "sys.path.append(\"/Users/erichsu/Documents/research/rake_dir/RAKE-tutorial/\")"
   ]
  },
  {
   "cell_type": "code",
   "execution_count": null,
   "metadata": {
    "collapsed": false
   },
   "outputs": [],
   "source": [
    "import rake\n",
    "import operator\n",
    "import random\n",
    "import wordcloud"
   ]
  },
  {
   "cell_type": "code",
   "execution_count": null,
   "metadata": {
    "collapsed": true
   },
   "outputs": [],
   "source": [
    "rake_object = rake.Rake(\"/Users/erichsu/Documents/research/rake_dir/RAKE-tutorial/SmartStoplist.txt\", 5, 3, 7)"
   ]
  },
  {
   "cell_type": "code",
   "execution_count": null,
   "metadata": {
    "collapsed": true
   },
   "outputs": [],
   "source": [
    "def save_to_file(file_name, text):\n",
    "    f = open(file_name, \"wb\")\n",
    "    f.write(text)\n",
    "\n",
    "def get_good_reviews(review_set):\n",
    "    good_reviews = [r for r in review_set if r['stars']>=4]\n",
    "    return good_reviews\n",
    "\n",
    "def get_bad_reviews(review_set):\n",
    "    bad_reviews = [r for r in review_set if r['stars']<=2]\n",
    "    return bad_reviews"
   ]
  },
  {
   "cell_type": "markdown",
   "metadata": {},
   "source": [
    "### Good Review"
   ]
  },
  {
   "cell_type": "code",
   "execution_count": null,
   "metadata": {
    "collapsed": false
   },
   "outputs": [],
   "source": [
    "m_good_reviews = get_good_reviews(m_reviews)\n",
    "f_good_reviews = get_good_reviews(f_reviews)\n",
    "\n",
    "m_review_sample = random.sample(m_good_reviews, 1000)\n",
    "f_review_sample = random.sample(f_good_reviews, 1000)\n",
    "\n",
    "male_text = \". \".join([r['text'] for r in m_review_sample])\n",
    "female_text = \". \".join([r['text'] for r in f_review_sample])"
   ]
  },
  {
   "cell_type": "code",
   "execution_count": null,
   "metadata": {
    "collapsed": false
   },
   "outputs": [],
   "source": [
    "save_to_file(\"male_good_review.txt\", male_text)\n",
    "save_to_file(\"female_good_review.txt\", female_text)"
   ]
  },
  {
   "cell_type": "code",
   "execution_count": null,
   "metadata": {
    "collapsed": false
   },
   "outputs": [],
   "source": [
    "keywords = rake_object.run(male_text)"
   ]
  },
  {
   "cell_type": "code",
   "execution_count": null,
   "metadata": {
    "collapsed": false
   },
   "outputs": [],
   "source": [
    "keywords[0:20]"
   ]
  },
  {
   "cell_type": "code",
   "execution_count": null,
   "metadata": {
    "collapsed": true
   },
   "outputs": [],
   "source": [
    "def word_cloud(text):\n",
    "    #wordcloud = WordCloud().generate(text)\n",
    "    #plt.imshow(wordcloud)\n",
    "    #plt.axis(\"off\")\n",
    "    \n",
    "    wc = wordcloud.WordCloud(max_font_size=40, relative_scaling=.5).generate(text)\n",
    "    plt.figure(figsize=(10,8))\n",
    "    plt.imshow(wc)\n",
    "    plt.axis(\"off\")\n",
    "    plt.show()"
   ]
  },
  {
   "cell_type": "code",
   "execution_count": null,
   "metadata": {
    "collapsed": false
   },
   "outputs": [],
   "source": [
    "word_cloud(male_text)"
   ]
  },
  {
   "cell_type": "code",
   "execution_count": null,
   "metadata": {
    "collapsed": false
   },
   "outputs": [],
   "source": [
    "word_cloud(female_text)"
   ]
  },
  {
   "cell_type": "markdown",
   "metadata": {},
   "source": [
    "### Bad Reviews"
   ]
  },
  {
   "cell_type": "code",
   "execution_count": null,
   "metadata": {
    "collapsed": true
   },
   "outputs": [],
   "source": [
    "m_bad_reviews = get_bad_reviews(m_reviews)\n",
    "f_bad_reviews = get_bad_reviews(f_reviews)\n",
    "\n",
    "m_review_sample = random.sample(m_bad_reviews, 1000)\n",
    "f_review_sample = random.sample(f_bad_reviews, 1000)\n",
    "\n",
    "male_text = \". \".join([r['text'] for r in m_review_sample])\n",
    "female_text = \". \".join([r['text'] for r in f_review_sample])"
   ]
  },
  {
   "cell_type": "code",
   "execution_count": null,
   "metadata": {
    "collapsed": false
   },
   "outputs": [],
   "source": [
    "keywords = rake_object.run(male_text)\n",
    "keywords[0:20]"
   ]
  },
  {
   "cell_type": "code",
   "execution_count": null,
   "metadata": {
    "collapsed": false
   },
   "outputs": [],
   "source": [
    "keywords = rake_object.run(female_text)\n",
    "keywords[0:20]"
   ]
  },
  {
   "cell_type": "code",
   "execution_count": null,
   "metadata": {
    "collapsed": false
   },
   "outputs": [],
   "source": [
    "word_cloud(male_text)"
   ]
  },
  {
   "cell_type": "code",
   "execution_count": null,
   "metadata": {
    "collapsed": false
   },
   "outputs": [],
   "source": [
    "word_cloud(female_text)"
   ]
  },
  {
   "cell_type": "markdown",
   "metadata": {},
   "source": [
    "<h1 align=\"center\">Behavior Analysis</h1>"
   ]
  },
  {
   "cell_type": "code",
   "execution_count": null,
   "metadata": {
    "collapsed": true
   },
   "outputs": [],
   "source": [
    "from collections import Counter"
   ]
  },
  {
   "cell_type": "markdown",
   "metadata": {},
   "source": [
    "### 1. Business Types"
   ]
  },
  {
   "cell_type": "code",
   "execution_count": null,
   "metadata": {
    "collapsed": false
   },
   "outputs": [],
   "source": [
    "business = {}\n",
    "\n",
    "with open(\"/Users/erichsu/Documents/research/yelp_dataset/yelp_dataset_challenge_academic_dataset/yelp_academic_dataset_business.json\", \"rb\") as f:\n",
    "    for line in f:\n",
    "        info = json.loads(line.strip())\n",
    "        business[info['business_id']] = info"
   ]
  },
  {
   "cell_type": "code",
   "execution_count": null,
   "metadata": {
    "collapsed": false
   },
   "outputs": [],
   "source": [
    "m_good_reviews = get_good_reviews(m_reviews)\n",
    "f_good_reviews = get_good_reviews(f_reviews)"
   ]
  },
  {
   "cell_type": "code",
   "execution_count": null,
   "metadata": {
    "collapsed": true
   },
   "outputs": [],
   "source": [
    "def count_best(review_set, business):\n",
    "    type_set = []\n",
    "    \n",
    "    for r in review_set:\n",
    "        bid = r['business_id']\n",
    "        bus = business[bid]\n",
    "        type_set.extend(bus['categories'])\n",
    "    \n",
    "    c = dict(Counter(type_set))\n",
    "    sorted_c = sorted(c.items(), key=operator.itemgetter(1), reverse=True)\n",
    "    return sorted_c[0:20]"
   ]
  },
  {
   "cell_type": "code",
   "execution_count": null,
   "metadata": {
    "collapsed": false
   },
   "outputs": [],
   "source": [
    "count_best(m_good_reviews, business)"
   ]
  },
  {
   "cell_type": "code",
   "execution_count": null,
   "metadata": {
    "collapsed": false
   },
   "outputs": [],
   "source": [
    "count_best(f_good_reviews, business)"
   ]
  },
  {
   "cell_type": "markdown",
   "metadata": {},
   "source": [
    "### 2. Preference of Food"
   ]
  },
  {
   "cell_type": "code",
   "execution_count": null,
   "metadata": {
    "collapsed": false
   },
   "outputs": [],
   "source": [
    "food_cat_list = \"\"\"\n",
    " Restaurants\n",
    " Fast Food\n",
    " Sandwiches\n",
    " Pizza\n",
    " Nightlife\n",
    " American (Traditional)\n",
    " Bars\n",
    " Chinese\n",
    " Food\n",
    " Burgers\n",
    " Mexican\n",
    " American (New)\n",
    " Chicken Wings\n",
    " Breakfast & Brunch\n",
    " Italian\n",
    " Barbeque\n",
    " Cafes\n",
    " Korean\n",
    " Pubs\n",
    " Asian Fusion\n",
    " Thai\n",
    " Japanese\n",
    " Salad\n",
    " Sushi Bars\n",
    " Steakhouses\n",
    "\"\"\""
   ]
  },
  {
   "cell_type": "code",
   "execution_count": null,
   "metadata": {
    "collapsed": true
   },
   "outputs": [],
   "source": [
    "for line in food_cat_list:\n",
    "    print f"
   ]
  },
  {
   "cell_type": "code",
   "execution_count": null,
   "metadata": {
    "collapsed": true
   },
   "outputs": [],
   "source": [
    "print \"s\""
   ]
  },
  {
   "cell_type": "markdown",
   "metadata": {},
   "source": [
    "### 3. gender of friends"
   ]
  },
  {
   "cell_type": "code",
   "execution_count": null,
   "metadata": {
    "collapsed": true
   },
   "outputs": [],
   "source": [
    "def get_gender(user):\n",
    "    return user['gender']\n",
    "\n",
    "def friend_stats(user, users):\n",
    "    fs = user['friends']\n",
    "    \n",
    "    gender_stats = []\n",
    "    \n",
    "    for uid in fs:\n",
    "        f_user = users[uid]\n",
    "        gender = get_gender(f_user)\n",
    "        if gender != 'unknown':\n",
    "            gender_stats.append(gender)\n",
    "        \n",
    "    stats = Counter(gender_stats)\n",
    "    \n",
    "    total = float(sum(stats.values()))\n",
    "        \n",
    "    return stats\n",
    "\n",
    "def get_average(arr):\n",
    "    return sum(arr)/float(len(arr))"
   ]
  },
  {
   "cell_type": "code",
   "execution_count": null,
   "metadata": {
    "collapsed": false
   },
   "outputs": [],
   "source": [
    "male_users = [user for user in users.values() if user['gender'] == 'male']\n",
    "female_users = [user for user in users.values() if user['gender'] == 'female']"
   ]
  },
  {
   "cell_type": "code",
   "execution_count": null,
   "metadata": {
    "collapsed": false
   },
   "outputs": [],
   "source": [
    "len(male_users)"
   ]
  },
  {
   "cell_type": "markdown",
   "metadata": {},
   "source": [
    "#### male stats"
   ]
  },
  {
   "cell_type": "code",
   "execution_count": null,
   "metadata": {
    "collapsed": false
   },
   "outputs": [],
   "source": [
    "stats_list = []\n",
    "\n",
    "for m_user in male_users:\n",
    "    stats = friend_stats(m_user, users)\n",
    "    stats_list.append(stats)\n",
    "\n",
    "males = [st['male'] for st in stats_list]\n",
    "females = [st['female'] for st in stats_list]"
   ]
  },
  {
   "cell_type": "code",
   "execution_count": null,
   "metadata": {
    "collapsed": false
   },
   "outputs": [],
   "source": [
    "plt.hist([n for n in males if n <20], bins=40, histtype='stepfilled', normed=True, color='b', label='Male')\n",
    "plt.hist([n for n in females if n <20], bins=40, histtype='stepfilled', normed=True, color='r', alpha=0.5, label='Female')\n",
    "plt.title(\"Usage of sentences\")\n",
    "plt.xlabel(\"Number of sentence\")\n",
    "plt.ylabel(\"Probability\")\n",
    "plt.legend()\n",
    "plt.show()"
   ]
  },
  {
   "cell_type": "markdown",
   "metadata": {},
   "source": [
    "#### female stats"
   ]
  },
  {
   "cell_type": "code",
   "execution_count": null,
   "metadata": {
    "collapsed": false
   },
   "outputs": [],
   "source": [
    "stats_list = []\n",
    "\n",
    "for m_user in female_users:\n",
    "    stats = friend_stats(m_user, users)\n",
    "    stats_list.append(stats)\n",
    "\n",
    "males = [st['male'] for st in stats_list]\n",
    "females = [st['female'] for st in stats_list]"
   ]
  },
  {
   "cell_type": "code",
   "execution_count": null,
   "metadata": {
    "collapsed": false
   },
   "outputs": [],
   "source": [
    "plt.hist([n for n in males if n <20], bins=20, histtype='stepfilled', normed=True, color='b', label='Male')\n",
    "plt.hist([n for n in females if n <20], bins=20, histtype='stepfilled', normed=True, color='r', alpha=0.5, label='Female')\n",
    "plt.title(\"Usage of sentences\")\n",
    "plt.xlabel(\"Number of sentence\")\n",
    "plt.ylabel(\"Probability\")\n",
    "plt.legend()\n",
    "plt.show()"
   ]
  },
  {
   "cell_type": "markdown",
   "metadata": {},
   "source": [
    "### 3. number of friends"
   ]
  },
  {
   "cell_type": "code",
   "execution_count": null,
   "metadata": {
    "collapsed": true
   },
   "outputs": [],
   "source": [
    "male_fr_count = get_average([len(user['friends']) for user in male_users])\n",
    "female_fr_count = get_average([len(user['friends']) for user in female_users])\n",
    "\n",
    "print \"Male_AVG\", male_fr_count\n",
    "print \"Female_AVG\", female_fr_count"
   ]
  },
  {
   "cell_type": "code",
   "execution_count": null,
   "metadata": {
    "collapsed": false
   },
   "outputs": [],
   "source": [
    "male_fr_count"
   ]
  },
  {
   "cell_type": "code",
   "execution_count": null,
   "metadata": {
    "collapsed": false
   },
   "outputs": [],
   "source": [
    "female_fr_count"
   ]
  },
  {
   "cell_type": "code",
   "execution_count": null,
   "metadata": {
    "collapsed": true
   },
   "outputs": [],
   "source": []
  },
  {
   "cell_type": "code",
   "execution_count": null,
   "metadata": {
    "collapsed": true
   },
   "outputs": [],
   "source": []
  },
  {
   "cell_type": "code",
   "execution_count": null,
   "metadata": {
    "collapsed": true
   },
   "outputs": [],
   "source": []
  },
  {
   "cell_type": "code",
   "execution_count": null,
   "metadata": {
    "collapsed": true
   },
   "outputs": [],
   "source": []
  },
  {
   "cell_type": "code",
   "execution_count": null,
   "metadata": {
    "collapsed": true
   },
   "outputs": [],
   "source": []
  },
  {
   "cell_type": "code",
   "execution_count": null,
   "metadata": {
    "collapsed": false
   },
   "outputs": [],
   "source": [
    "import timeit\n",
    "def test():\n",
    "    text = '''\n",
    "    The titular threat of The Blob has always struck me as the ultimate movie\n",
    "    monster: an insatiably hungry, amoeba-like mass able to penetrate\n",
    "    virtually any safeguard, capable of--as a doomed doctor chillingly\n",
    "    describes it--\"assimilating flesh on contact.\n",
    "    Snide comparisons to gelatin be damned, it's a concept with the most\n",
    "    devastating of potential consequences, not unlike the grey goo scenario\n",
    "    proposed by technological theorists fearful of\n",
    "    artificial intelligence run rampant.\n",
    "    '''\n",
    "    blob = TextBlob(text)\n",
    "    p= blob.tags\n",
    "    \n",
    "timeit.timeit(test, number=10000)"
   ]
  },
  {
   "cell_type": "code",
   "execution_count": null,
   "metadata": {
    "collapsed": false
   },
   "outputs": [],
   "source": [
    "len(f_reviews)"
   ]
  },
  {
   "cell_type": "code",
   "execution_count": null,
   "metadata": {
    "collapsed": false
   },
   "outputs": [],
   "source": [
    "reviews[1]"
   ]
  },
  {
   "cell_type": "code",
   "execution_count": null,
   "metadata": {
    "collapsed": true
   },
   "outputs": [],
   "source": []
  }
 ],
 "metadata": {
  "kernelspec": {
   "display_name": "Python 2",
   "language": "python",
   "name": "python2"
  },
  "language_info": {
   "codemirror_mode": {
    "name": "ipython",
    "version": 2
   },
   "file_extension": ".py",
   "mimetype": "text/x-python",
   "name": "python",
   "nbconvert_exporter": "python",
   "pygments_lexer": "ipython2",
   "version": "2.7.11"
  }
 },
 "nbformat": 4,
 "nbformat_minor": 0
}

{
 "cells": [
  {
   "cell_type": "markdown",
   "metadata": {},
   "source": [
    "<h1 align = \"center\">Are Yelp reviews gendered ?</h1>"
   ]
  },
  {
   "cell_type": "code",
   "execution_count": 1,
   "metadata": {
    "collapsed": true
   },
   "outputs": [],
   "source": [
    "%matplotlib inline "
   ]
  },
  {
   "cell_type": "code",
   "execution_count": 2,
   "metadata": {
    "collapsed": true
   },
   "outputs": [],
   "source": [
    "import json\n",
    "import pyprind\n",
    "import collections\n",
    "import matplotlib.pyplot as plt\n",
    "from textblob import TextBlob"
   ]
  },
  {
   "cell_type": "code",
   "execution_count": 3,
   "metadata": {
    "collapsed": true
   },
   "outputs": [],
   "source": [
    "# load gender detector\n",
    "\n",
    "from gender_detector import GenderDetector \n",
    "detector = GenderDetector('us')"
   ]
  },
  {
   "cell_type": "code",
   "execution_count": 4,
   "metadata": {
    "collapsed": true
   },
   "outputs": [],
   "source": [
    "# load all users\n",
    "\n",
    "users = {}\n",
    "\n",
    "with open(\"../yelp_dataset/yelp_dataset_challenge_academic_dataset/yelp_academic_dataset_user.json\", \"rb\") as f:\n",
    "    for line in f:\n",
    "        user = json.loads(line.strip())\n",
    "        users[user['user_id']] = user"
   ]
  },
  {
   "cell_type": "code",
   "execution_count": 7,
   "metadata": {
    "collapsed": false
   },
   "outputs": [
    {
     "name": "stderr",
     "output_type": "stream",
     "text": [
      "0%                                                                            100%\n",
      "[################################################################################] | ETA: 00:00:00\n",
      "Total time elapsed: 00:29:55\n"
     ]
    }
   ],
   "source": [
    "# detect all names' gender\n",
    "\n",
    "name_set = set()\n",
    "\n",
    "for user in users.values():\n",
    "    name_set.add(user['name'])\n",
    "\n",
    "bar = pyprind.ProgBar(len(name_set), width = 80)\n",
    "\n",
    "# set mapping\n",
    "gender = {}\n",
    "\n",
    "for name in name_set:\n",
    "    bar.update()\n",
    "    try:\n",
    "        gender[name] = detector.guess(name)\n",
    "    except:\n",
    "        gender[name] = 'unknown'"
   ]
  },
  {
   "cell_type": "code",
   "execution_count": 8,
   "metadata": {
    "collapsed": true
   },
   "outputs": [],
   "source": [
    "# save to file\n",
    "\n",
    "with open(\"gender.json\", \"wb\") as f:\n",
    "    json.dump(gender, f)"
   ]
  },
  {
   "cell_type": "code",
   "execution_count": 9,
   "metadata": {
    "collapsed": false
   },
   "outputs": [],
   "source": [
    "with open(\"gender.json\", \"rb\") as f:\n",
    "    gender = json.load(f)"
   ]
  },
  {
   "cell_type": "code",
   "execution_count": 10,
   "metadata": {
    "collapsed": false
   },
   "outputs": [],
   "source": [
    "# assign gender to users\n",
    "\n",
    "for user in users.values():\n",
    "    try:\n",
    "        user['gender'] = gender[user['name']]\n",
    "    except:\n",
    "        user['gender'] = 'unknown'"
   ]
  },
  {
   "cell_type": "code",
   "execution_count": 11,
   "metadata": {
    "collapsed": false
   },
   "outputs": [
    {
     "name": "stdout",
     "output_type": "stream",
     "text": [
      "total number of users is 552339\n"
     ]
    }
   ],
   "source": [
    "gender_list = [user['gender'] for user in users.values()]\n",
    "\n",
    "print \"total number of users is\", len(gender_list)"
   ]
  },
  {
   "cell_type": "code",
   "execution_count": 12,
   "metadata": {
    "collapsed": false
   },
   "outputs": [
    {
     "data": {
      "image/png": "[encoded data removed]",
      "text/plain": [
       "<matplotlib.figure.Figure at 0x18f65f250>"
      ]
     },
     "metadata": {},
     "output_type": "display_data"
    }
   ],
   "source": [
    "counter=collections.Counter(gender_list)\n",
    "\n",
    "labels = counter.keys()\n",
    "sizes = counter.values()\n",
    "colors = ['gold', 'yellowgreen', 'lightcoral']\n",
    "explode = (0.1, 0, 0)  # explode 1st slice\n",
    " \n",
    "# Plot\n",
    "plt.pie(sizes, explode=explode, labels=labels, colors=colors,\n",
    "        autopct='%1.1f%%', shadow=True, startangle=140)\n",
    " \n",
    "plt.axis('equal')\n",
    "plt.show()"
   ]
  },
  {
   "cell_type": "code",
   "execution_count": 13,
   "metadata": {
    "collapsed": true
   },
   "outputs": [],
   "source": [
    "reviews = []\n",
    "with open(\"../yelp_dataset/yelp_dataset_challenge_academic_dataset/yelp_academic_dataset_review.json\", \"rb\") as f:\n",
    "    for line in f:\n",
    "        reviews.append(json.loads(line.strip()))"
   ]
  },
  {
   "cell_type": "code",
   "execution_count": 14,
   "metadata": {
    "collapsed": false
   },
   "outputs": [
    {
     "name": "stderr",
     "output_type": "stream",
     "text": [
      "0%                                                                            100%\n",
      "[################################################################################] | ETA: 00:00:00\n",
      "Total time elapsed: 00:02:14\n"
     ]
    }
   ],
   "source": [
    "bar = pyprind.ProgBar(len(reviews), width = 80)\n",
    "\n",
    "for review in reviews:\n",
    "    bar.update()\n",
    "    review['text_blob'] = TextBlob(review['text'])"
   ]
  },
  {
   "cell_type": "code",
   "execution_count": 15,
   "metadata": {
    "collapsed": false
   },
   "outputs": [],
   "source": [
    "m_reviews = []\n",
    "f_reviews = []\n",
    "for review in reviews:\n",
    "    user = users[review['user_id']]\n",
    "    if user['gender'] == 'male':\n",
    "        m_reviews.append(review)\n",
    "    elif user['gender'] == 'female':\n",
    "        f_reviews.append(review)"
   ]
  },
  {
   "cell_type": "code",
   "execution_count": 16,
   "metadata": {
    "collapsed": false
   },
   "outputs": [
    {
     "data": {
      "text/plain": [
       "{u'business_id': u'5UmKMjUEUNdYWqANhGckJw',\n",
       " u'date': u'2014-02-13',\n",
       " u'review_id': u'KPvLNJ21_4wbYNctrOwWdQ',\n",
       " u'stars': 5,\n",
       " u'text': u\"Excellent food. Superb customer service. I miss the mario machines they used to have, but it's still a great place steeped in tradition.\",\n",
       " 'text_blob': TextBlob(\"Excellent food. Superb customer service. I miss the mario machines they used to have, but it's still a great place steeped in tradition.\"),\n",
       " u'type': u'review',\n",
       " u'user_id': u'Iu6AxdBYGR4A0wspR9BYHA',\n",
       " u'votes': {u'cool': 0, u'funny': 0, u'useful': 0}}"
      ]
     },
     "execution_count": 16,
     "metadata": {},
     "output_type": "execute_result"
    }
   ],
   "source": [
    "reviews[1]"
   ]
  },
  {
   "cell_type": "code",
   "execution_count": 24,
   "metadata": {
    "collapsed": false
   },
   "outputs": [
    {
     "data": {
      "text/plain": [
       "WordList(['The', 'titular', 'threat', 'of', 'The', 'Blob', 'has', 'always', 'struck', 'me', 'as', 'the', 'ultimate', 'movie', 'monster', 'an', 'insatiably', 'hungry', 'amoeba-like', 'mass', 'able', 'to', 'penetrate', 'virtually', 'any', 'safeguard', 'capable', 'of', 'as', 'a', 'doomed', 'doctor', 'chillingly', 'describes', 'it', 'assimilating', 'flesh', 'on', 'contact', 'Snide', 'comparisons', 'to', 'gelatin', 'be', 'damned', 'it', \"'s\", 'a', 'concept', 'with', 'the', 'most', 'devastating', 'of', 'potential', 'consequences', 'not', 'unlike', 'the', 'grey', 'goo', 'scenario', 'proposed', 'by', 'technological', 'theorists', 'fearful', 'of', 'artificial', 'intelligence', 'run', 'rampant'])"
      ]
     },
     "execution_count": 24,
     "metadata": {},
     "output_type": "execute_result"
    }
   ],
   "source": [
    "text = '''\n",
    "The titular threat of The Blob has always struck me as the ultimate movie\n",
    "monster: an insatiably hungry, amoeba-like mass able to penetrate\n",
    "virtually any safeguard, capable of--as a doomed doctor chillingly\n",
    "describes it--\"assimilating flesh on contact.\n",
    "Snide comparisons to gelatin be damned, it's a concept with the most\n",
    "devastating of potential consequences, not unlike the grey goo scenario\n",
    "proposed by technological theorists fearful of\n",
    "artificial intelligence run rampant.\n",
    "'''\n",
    "\n",
    "blob = TextBlob(text)\n",
    "blob.words"
   ]
  },
  {
   "cell_type": "markdown",
   "metadata": {},
   "source": [
    "<h1 align = \"center\">Text Analysis</h1>"
   ]
  },
  {
   "cell_type": "markdown",
   "metadata": {},
   "source": [
    "### 1. Number of words"
   ]
  },
  {
   "cell_type": "code",
   "execution_count": 17,
   "metadata": {
    "collapsed": false
   },
   "outputs": [
    {
     "name": "stderr",
     "output_type": "stream",
     "text": [
      "0%                                                                            100%\n",
      "[################################################################################] | ETA: 00:00:00\n",
      "Total time elapsed: 00:00:45\n",
      "0%                                                                            100%\n",
      "[################################################################################] | ETA: 00:00:00\n",
      "Total time elapsed: 00:00:18\n"
     ]
    }
   ],
   "source": [
    "def num_words_dist(review_set):\n",
    "    \n",
    "    bar = pyprind.ProgBar(len(review_set), width = 80)\n",
    "    \n",
    "    ret = []\n",
    "\n",
    "    for review in review_set:\n",
    "        bar.update()\n",
    "        n = len(review['text'].split(\" \"))\n",
    "        ret.append(n)\n",
    "    return ret\n",
    "\n",
    "m_num_word_dist = num_words_dist(m_reviews)\n",
    "f_num_word_dist = num_words_dist(f_reviews)"
   ]
  },
  {
   "cell_type": "code",
   "execution_count": 18,
   "metadata": {
    "collapsed": false
   },
   "outputs": [
    {
     "data": {
      "image/png": "[encoded data removed]",
      "text/plain": [
       "<matplotlib.figure.Figure at 0x107d13250>"
      ]
     },
     "metadata": {},
     "output_type": "display_data"
    }
   ],
   "source": [
    "plt.hist(m_num_word_dist, bins=40, histtype='stepfilled', normed=True, color='b', label='Male')\n",
    "plt.hist(f_num_word_dist, bins=40, histtype='stepfilled', normed=True, color='r', alpha=0.5, label='Female')\n",
    "plt.title(\"Usage of words\")\n",
    "plt.xlabel(\"Number of words\")\n",
    "plt.ylabel(\"Frequency\")\n",
    "plt.legend()\n",
    "plt.show()"
   ]
  },
  {
   "cell_type": "code",
   "execution_count": 19,
   "metadata": {
    "collapsed": false
   },
   "outputs": [
    {
     "data": {
      "image/png": "[encoded data removed]",
      "text/plain": [
       "<matplotlib.figure.Figure at 0x107d13150>"
      ]
     },
     "metadata": {},
     "output_type": "display_data"
    }
   ],
   "source": [
    "plt.hist([n for n in m_num_word_dist if n <600], bins=40, histtype='stepfilled', normed=True, color='b', label='Male')\n",
    "plt.hist([n for n in f_num_word_dist if n <600], bins=40, histtype='stepfilled', normed=True, color='r', alpha=0.5, label='Female')\n",
    "plt.title(\"Usage of words\")\n",
    "plt.xlabel(\"Number of words\")\n",
    "plt.ylabel(\"Probability\")\n",
    "plt.legend()\n",
    "plt.show()"
   ]
  },
  {
   "cell_type": "code",
   "execution_count": 20,
   "metadata": {
    "collapsed": false
   },
   "outputs": [],
   "source": [
    "m_avg = sum(m_num_word_dist) / float(len(m_num_word_dist))\n",
    "f_avg = sum(f_num_word_dist) / float(len(f_num_word_dist))"
   ]
  },
  {
   "cell_type": "code",
   "execution_count": 21,
   "metadata": {
    "collapsed": false
   },
   "outputs": [
    {
     "name": "stdout",
     "output_type": "stream",
     "text": [
      "Male_AVG 114.891708316\n",
      "Female_AVG 124.155503035\n"
     ]
    }
   ],
   "source": [
    "print \"Male_AVG\", m_avg\n",
    "print \"Female_AVG\", f_avg"
   ]
  },
  {
   "cell_type": "markdown",
   "metadata": {},
   "source": [
    "### 2. Number of sentences"
   ]
  },
  {
   "cell_type": "code",
   "execution_count": null,
   "metadata": {
    "collapsed": true
   },
   "outputs": [],
   "source": [
    "def num_sentences_dist(review_set):\n",
    "    ret = []\n",
    "    for review in review_set:\n",
    "        n = len(review['text_blob'].sentences)\n",
    "        ret.append(n)\n",
    "    return ret\n",
    "\n",
    "m_num_sen_dist = num_sentences_dist(m_reviews)\n",
    "f_num_sen_dist = num_sentences_dist(f_reviews)"
   ]
  },
  {
   "cell_type": "code",
   "execution_count": 34,
   "metadata": {
    "collapsed": false
   },
   "outputs": [
    {
     "data": {
      "text/plain": [
       "58.65041518211365"
      ]
     },
     "execution_count": 34,
     "metadata": {},
     "output_type": "execute_result"
    }
   ],
   "source": [
    "import timeit\n",
    "def test():\n",
    "    text = '''\n",
    "    The titular threat of The Blob has always struck me as the ultimate movie\n",
    "    monster: an insatiably hungry, amoeba-like mass able to penetrate\n",
    "    virtually any safeguard, capable of--as a doomed doctor chillingly\n",
    "    describes it--\"assimilating flesh on contact.\n",
    "    Snide comparisons to gelatin be damned, it's a concept with the most\n",
    "    devastating of potential consequences, not unlike the grey goo scenario\n",
    "    proposed by technological theorists fearful of\n",
    "    artificial intelligence run rampant.\n",
    "    '''\n",
    "    blob = TextBlob(text)\n",
    "    p= blob.tags\n",
    "    \n",
    "timeit.timeit(test, number=10000)"
   ]
  },
  {
   "cell_type": "code",
   "execution_count": 31,
   "metadata": {
    "collapsed": false
   },
   "outputs": [
    {
     "data": {
      "text/plain": [
       "867385"
      ]
     },
     "execution_count": 31,
     "metadata": {},
     "output_type": "execute_result"
    }
   ],
   "source": [
    "len(f_reviews)"
   ]
  },
  {
   "cell_type": "code",
   "execution_count": null,
   "metadata": {
    "collapsed": true
   },
   "outputs": [],
   "source": [
    "blob."
   ]
  }
 ],
 "metadata": {
  "kernelspec": {
   "display_name": "Python 2",
   "language": "python",
   "name": "python2"
  },
  "language_info": {
   "codemirror_mode": {
    "name": "ipython",
    "version": 2
   },
   "file_extension": ".py",
   "mimetype": "text/x-python",
   "name": "python",
   "nbconvert_exporter": "python",
   "pygments_lexer": "ipython2",
   "version": "2.7.11"
  }
 },
 "nbformat": 4,
 "nbformat_minor": 0
}
